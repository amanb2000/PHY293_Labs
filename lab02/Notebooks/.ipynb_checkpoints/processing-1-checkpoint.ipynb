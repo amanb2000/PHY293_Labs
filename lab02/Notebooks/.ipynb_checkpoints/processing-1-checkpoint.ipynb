{
 "cells": [
  {
   "cell_type": "code",
   "execution_count": 33,
   "metadata": {},
   "outputs": [
    {
     "data": {
      "text/plain": [
       "'\\nSteps: \\n1. Import data from ../data/day1, ../data/day2\\n2. \\n\\n'"
      ]
     },
     "execution_count": 33,
     "metadata": {},
     "output_type": "execute_result"
    }
   ],
   "source": [
    "'''\n",
    "Steps: \n",
    "1. Import data from ../data/day1, ../data/day2\n",
    "2. \n",
    "\n",
    "'''"
   ]
  },
  {
   "cell_type": "code",
   "execution_count": 34,
   "metadata": {},
   "outputs": [],
   "source": [
    "# Imports\n",
    "import numpy as np\n",
    "from sklearn import *\n",
    "import pickle\n",
    "import math"
   ]
  },
  {
   "cell_type": "code",
   "execution_count": 37,
   "metadata": {},
   "outputs": [
    {
     "name": "stdout",
     "output_type": "stream",
     "text": [
      "Number of trials: 59\n",
      "Number of samples per trial: 120\n"
     ]
    }
   ],
   "source": [
    "# Getting data from Divy's pickled data.\n",
    "in_pickle = open('../data/readings.pkl', 'rb')\n",
    "main_dict = pickle.load(in_pickle)\n",
    "main_dict.keys()\n",
    "len(main_dict['day2'])\n",
    "\n",
    "# Array to populate with each trial's sub-arrays\n",
    "full_array = []\n",
    "\n",
    "# Getting day1 and day2 data into the same array\n",
    "for i in main_dict['day1']:\n",
    "    full_array += [i]\n",
    "for i in main_dict['day2']:\n",
    "    full_array += [i]\n",
    "\n",
    "# Outputting statistics on the final array\n",
    "print('Number of trials: {}'.format(len(full_array)))\n",
    "print('Number of samples per trial: {}'.format(len(full_array[0])))"
   ]
  },
  {
   "cell_type": "code",
   "execution_count": 36,
   "metadata": {},
   "outputs": [
    {
     "name": "stdout",
     "output_type": "stream",
     "text": [
      "Valid trial rate is: 41/59\n",
      "New size of valid trials is 41\n"
     ]
    }
   ],
   "source": [
    "clean_data = [] # This array will exclude trials with bad data in them\n",
    "\n",
    "# Function to get tell you if data from a given trial is valid or invalid.\n",
    "def validate_trial(trial):\n",
    "    for i in range(0, len(trial)-1):\n",
    "        if(trial[i][0] == 0 and trial[i][1] == 0):\n",
    "            return False\n",
    "    return True\n",
    "\n",
    "# Getting count for how much good/bad data you have\n",
    "num_good = 0\n",
    "for i in full_array:\n",
    "    if validate_trial(i):\n",
    "        num_good += 1\n",
    "\n",
    "print('Valid trial rate is: {}/{}'.format(num_good, len(full_array)))\n",
    "\n",
    "# Adding good data to the `clean_data` array\n",
    "for i in range(0, len(full_array)):\n",
    "    if validate_trial(full_array[i]):\n",
    "        clean_data += [full_array[i]]\n",
    "\n",
    "print('New size of valid trials is {}'.format(len(clean_data)))"
   ]
  },
  {
   "cell_type": "code",
   "execution_count": null,
   "metadata": {},
   "outputs": [],
   "source": [
    "# Processing each clean trial: \n",
    "# 1. Calculate distance traveled between each point in time (dr/dt) for all data sets.\n",
    "# 2. Compile results into a single 1-d array\n",
    "# 3. "
   ]
  },
  {
   "cell_type": "code",
   "execution_count": null,
   "metadata": {},
   "outputs": [],
   "source": []
  }
 ],
 "metadata": {
  "kernelspec": {
   "display_name": "Python 3",
   "language": "python",
   "name": "python3"
  },
  "language_info": {
   "codemirror_mode": {
    "name": "ipython",
    "version": 3
   },
   "file_extension": ".py",
   "mimetype": "text/x-python",
   "name": "python",
   "nbconvert_exporter": "python",
   "pygments_lexer": "ipython3",
   "version": "3.7.1"
  }
 },
 "nbformat": 4,
 "nbformat_minor": 2
}
