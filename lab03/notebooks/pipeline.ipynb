{
 "nbformat": 4,
 "nbformat_minor": 2,
 "metadata": {
  "language_info": {
   "name": "python",
   "codemirror_mode": {
    "name": "ipython",
    "version": 3
   }
  },
  "orig_nbformat": 2,
  "file_extension": ".py",
  "mimetype": "text/x-python",
  "name": "python",
  "npconvert_exporter": "python",
  "pygments_lexer": "ipython3",
  "version": 3
 },
 "cells": [
  {
   "cell_type": "code",
   "execution_count": 29,
   "metadata": {},
   "outputs": [],
   "source": [
    "import pickle as pkl\n",
    "import pandas as pd\n"
   ]
  },
  {
   "cell_type": "code",
   "execution_count": 30,
   "metadata": {},
   "outputs": [],
   "source": [
    "# constants\n",
    "## not needed anymore\n",
    "NUM_SAMPLES = int((6-2.5)/0.5)  # from 6.0V to 2.5V in 0.5 increments = 8\n",
    "TERMS_PER_SAMPLE = 3  # sample voltage, inner diameter, outer diameter\n",
    "PATH_TO_DATA = \"lab03/data/formatted_data.txt\"\n",
    "STORAGE_PATH = \"lab03/data/readings.pkl\"\n"
   ]
  },
  {
   "cell_type": "code",
   "execution_count": 31,
   "metadata": {},
   "outputs": [],
   "source": [
    "# data\n",
    "data = pd.read_csv(PATH_TO_DATA)\n",
    "# [[sample_voltage,inner_diameter,outer_diameter],...]\n",
    "data = data.to_numpy()"
   ]
  },
  {
   "cell_type": "code",
   "execution_count": 32,
   "metadata": {},
   "outputs": [],
   "source": [
    "storageLocation = open(STORAGE_PATH, \"wb\")\n",
    "pkl.dump(data, storageLocation)\n",
    "storageLocation.close()"
   ]
  }
 ]
}